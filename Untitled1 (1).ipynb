{
  "nbformat": 4,
  "nbformat_minor": 0,
  "metadata": {
    "colab": {
      "provenance": []
    },
    "kernelspec": {
      "name": "python3",
      "display_name": "Python 3"
    },
    "language_info": {
      "name": "python"
    }
  },
  "cells": [
    {
      "cell_type": "code",
      "execution_count": null,
      "metadata": {
        "id": "AMEOV6MJKACG"
      },
      "outputs": [],
      "source": [
        "import numpy as np\n",
        "import pandas as pd\n",
        "\n",
        "\n",
        "import matplotlib.pyplot as plt\n",
        "import seaborn as sns\n"
      ]
    },
    {
      "cell_type": "code",
      "source": [
        "sales=pd.DataFrame(pd.read_csv(\"/content/advertising.csv\"))\n",
        "sales"
      ],
      "metadata": {
        "colab": {
          "base_uri": "https://localhost:8080/",
          "height": 423
        },
        "id": "L0dEcFBqNHhh",
        "outputId": "067a65bf-f140-4dea-a853-77c95195618c"
      },
      "execution_count": null,
      "outputs": [
        {
          "output_type": "execute_result",
          "data": {
            "text/plain": [
              "        TV  Radio  Newspaper  Sales\n",
              "0    230.1   37.8       69.2   22.1\n",
              "1     44.5   39.3       45.1   10.4\n",
              "2     17.2   45.9       69.3   12.0\n",
              "3    151.5   41.3       58.5   16.5\n",
              "4    180.8   10.8       58.4   17.9\n",
              "..     ...    ...        ...    ...\n",
              "195   38.2    3.7       13.8    7.6\n",
              "196   94.2    4.9        8.1   14.0\n",
              "197  177.0    9.3        6.4   14.8\n",
              "198  283.6   42.0       66.2   25.5\n",
              "199  232.1    8.6        8.7   18.4\n",
              "\n",
              "[200 rows x 4 columns]"
            ],
            "text/html": [
              "\n",
              "\n",
              "  <div id=\"df-ca6285b3-0b84-4383-9a85-89f4b3f14c93\">\n",
              "    <div class=\"colab-df-container\">\n",
              "      <div>\n",
              "<style scoped>\n",
              "    .dataframe tbody tr th:only-of-type {\n",
              "        vertical-align: middle;\n",
              "    }\n",
              "\n",
              "    .dataframe tbody tr th {\n",
              "        vertical-align: top;\n",
              "    }\n",
              "\n",
              "    .dataframe thead th {\n",
              "        text-align: right;\n",
              "    }\n",
              "</style>\n",
              "<table border=\"1\" class=\"dataframe\">\n",
              "  <thead>\n",
              "    <tr style=\"text-align: right;\">\n",
              "      <th></th>\n",
              "      <th>TV</th>\n",
              "      <th>Radio</th>\n",
              "      <th>Newspaper</th>\n",
              "      <th>Sales</th>\n",
              "    </tr>\n",
              "  </thead>\n",
              "  <tbody>\n",
              "    <tr>\n",
              "      <th>0</th>\n",
              "      <td>230.1</td>\n",
              "      <td>37.8</td>\n",
              "      <td>69.2</td>\n",
              "      <td>22.1</td>\n",
              "    </tr>\n",
              "    <tr>\n",
              "      <th>1</th>\n",
              "      <td>44.5</td>\n",
              "      <td>39.3</td>\n",
              "      <td>45.1</td>\n",
              "      <td>10.4</td>\n",
              "    </tr>\n",
              "    <tr>\n",
              "      <th>2</th>\n",
              "      <td>17.2</td>\n",
              "      <td>45.9</td>\n",
              "      <td>69.3</td>\n",
              "      <td>12.0</td>\n",
              "    </tr>\n",
              "    <tr>\n",
              "      <th>3</th>\n",
              "      <td>151.5</td>\n",
              "      <td>41.3</td>\n",
              "      <td>58.5</td>\n",
              "      <td>16.5</td>\n",
              "    </tr>\n",
              "    <tr>\n",
              "      <th>4</th>\n",
              "      <td>180.8</td>\n",
              "      <td>10.8</td>\n",
              "      <td>58.4</td>\n",
              "      <td>17.9</td>\n",
              "    </tr>\n",
              "    <tr>\n",
              "      <th>...</th>\n",
              "      <td>...</td>\n",
              "      <td>...</td>\n",
              "      <td>...</td>\n",
              "      <td>...</td>\n",
              "    </tr>\n",
              "    <tr>\n",
              "      <th>195</th>\n",
              "      <td>38.2</td>\n",
              "      <td>3.7</td>\n",
              "      <td>13.8</td>\n",
              "      <td>7.6</td>\n",
              "    </tr>\n",
              "    <tr>\n",
              "      <th>196</th>\n",
              "      <td>94.2</td>\n",
              "      <td>4.9</td>\n",
              "      <td>8.1</td>\n",
              "      <td>14.0</td>\n",
              "    </tr>\n",
              "    <tr>\n",
              "      <th>197</th>\n",
              "      <td>177.0</td>\n",
              "      <td>9.3</td>\n",
              "      <td>6.4</td>\n",
              "      <td>14.8</td>\n",
              "    </tr>\n",
              "    <tr>\n",
              "      <th>198</th>\n",
              "      <td>283.6</td>\n",
              "      <td>42.0</td>\n",
              "      <td>66.2</td>\n",
              "      <td>25.5</td>\n",
              "    </tr>\n",
              "    <tr>\n",
              "      <th>199</th>\n",
              "      <td>232.1</td>\n",
              "      <td>8.6</td>\n",
              "      <td>8.7</td>\n",
              "      <td>18.4</td>\n",
              "    </tr>\n",
              "  </tbody>\n",
              "</table>\n",
              "<p>200 rows × 4 columns</p>\n",
              "</div>\n",
              "      <button class=\"colab-df-convert\" onclick=\"convertToInteractive('df-ca6285b3-0b84-4383-9a85-89f4b3f14c93')\"\n",
              "              title=\"Convert this dataframe to an interactive table.\"\n",
              "              style=\"display:none;\">\n",
              "\n",
              "  <svg xmlns=\"http://www.w3.org/2000/svg\" height=\"24px\"viewBox=\"0 0 24 24\"\n",
              "       width=\"24px\">\n",
              "    <path d=\"M0 0h24v24H0V0z\" fill=\"none\"/>\n",
              "    <path d=\"M18.56 5.44l.94 2.06.94-2.06 2.06-.94-2.06-.94-.94-2.06-.94 2.06-2.06.94zm-11 1L8.5 8.5l.94-2.06 2.06-.94-2.06-.94L8.5 2.5l-.94 2.06-2.06.94zm10 10l.94 2.06.94-2.06 2.06-.94-2.06-.94-.94-2.06-.94 2.06-2.06.94z\"/><path d=\"M17.41 7.96l-1.37-1.37c-.4-.4-.92-.59-1.43-.59-.52 0-1.04.2-1.43.59L10.3 9.45l-7.72 7.72c-.78.78-.78 2.05 0 2.83L4 21.41c.39.39.9.59 1.41.59.51 0 1.02-.2 1.41-.59l7.78-7.78 2.81-2.81c.8-.78.8-2.07 0-2.86zM5.41 20L4 18.59l7.72-7.72 1.47 1.35L5.41 20z\"/>\n",
              "  </svg>\n",
              "      </button>\n",
              "\n",
              "\n",
              "\n",
              "    <div id=\"df-025e935c-6e57-463d-921f-2fbdba34c892\">\n",
              "      <button class=\"colab-df-quickchart\" onclick=\"quickchart('df-025e935c-6e57-463d-921f-2fbdba34c892')\"\n",
              "              title=\"Suggest charts.\"\n",
              "              style=\"display:none;\">\n",
              "\n",
              "<svg xmlns=\"http://www.w3.org/2000/svg\" height=\"24px\"viewBox=\"0 0 24 24\"\n",
              "     width=\"24px\">\n",
              "    <g>\n",
              "        <path d=\"M19 3H5c-1.1 0-2 .9-2 2v14c0 1.1.9 2 2 2h14c1.1 0 2-.9 2-2V5c0-1.1-.9-2-2-2zM9 17H7v-7h2v7zm4 0h-2V7h2v10zm4 0h-2v-4h2v4z\"/>\n",
              "    </g>\n",
              "</svg>\n",
              "      </button>\n",
              "    </div>\n",
              "\n",
              "<style>\n",
              "  .colab-df-quickchart {\n",
              "    background-color: #E8F0FE;\n",
              "    border: none;\n",
              "    border-radius: 50%;\n",
              "    cursor: pointer;\n",
              "    display: none;\n",
              "    fill: #1967D2;\n",
              "    height: 32px;\n",
              "    padding: 0 0 0 0;\n",
              "    width: 32px;\n",
              "  }\n",
              "\n",
              "  .colab-df-quickchart:hover {\n",
              "    background-color: #E2EBFA;\n",
              "    box-shadow: 0px 1px 2px rgba(60, 64, 67, 0.3), 0px 1px 3px 1px rgba(60, 64, 67, 0.15);\n",
              "    fill: #174EA6;\n",
              "  }\n",
              "\n",
              "  [theme=dark] .colab-df-quickchart {\n",
              "    background-color: #3B4455;\n",
              "    fill: #D2E3FC;\n",
              "  }\n",
              "\n",
              "  [theme=dark] .colab-df-quickchart:hover {\n",
              "    background-color: #434B5C;\n",
              "    box-shadow: 0px 1px 3px 1px rgba(0, 0, 0, 0.15);\n",
              "    filter: drop-shadow(0px 1px 2px rgba(0, 0, 0, 0.3));\n",
              "    fill: #FFFFFF;\n",
              "  }\n",
              "</style>\n",
              "\n",
              "    <script>\n",
              "      async function quickchart(key) {\n",
              "        const containerElement = document.querySelector('#' + key);\n",
              "        const charts = await google.colab.kernel.invokeFunction(\n",
              "            'suggestCharts', [key], {});\n",
              "      }\n",
              "    </script>\n",
              "\n",
              "      <script>\n",
              "\n",
              "function displayQuickchartButton(domScope) {\n",
              "  let quickchartButtonEl =\n",
              "    domScope.querySelector('#df-025e935c-6e57-463d-921f-2fbdba34c892 button.colab-df-quickchart');\n",
              "  quickchartButtonEl.style.display =\n",
              "    google.colab.kernel.accessAllowed ? 'block' : 'none';\n",
              "}\n",
              "\n",
              "        displayQuickchartButton(document);\n",
              "      </script>\n",
              "      <style>\n",
              "    .colab-df-container {\n",
              "      display:flex;\n",
              "      flex-wrap:wrap;\n",
              "      gap: 12px;\n",
              "    }\n",
              "\n",
              "    .colab-df-convert {\n",
              "      background-color: #E8F0FE;\n",
              "      border: none;\n",
              "      border-radius: 50%;\n",
              "      cursor: pointer;\n",
              "      display: none;\n",
              "      fill: #1967D2;\n",
              "      height: 32px;\n",
              "      padding: 0 0 0 0;\n",
              "      width: 32px;\n",
              "    }\n",
              "\n",
              "    .colab-df-convert:hover {\n",
              "      background-color: #E2EBFA;\n",
              "      box-shadow: 0px 1px 2px rgba(60, 64, 67, 0.3), 0px 1px 3px 1px rgba(60, 64, 67, 0.15);\n",
              "      fill: #174EA6;\n",
              "    }\n",
              "\n",
              "    [theme=dark] .colab-df-convert {\n",
              "      background-color: #3B4455;\n",
              "      fill: #D2E3FC;\n",
              "    }\n",
              "\n",
              "    [theme=dark] .colab-df-convert:hover {\n",
              "      background-color: #434B5C;\n",
              "      box-shadow: 0px 1px 3px 1px rgba(0, 0, 0, 0.15);\n",
              "      filter: drop-shadow(0px 1px 2px rgba(0, 0, 0, 0.3));\n",
              "      fill: #FFFFFF;\n",
              "    }\n",
              "  </style>\n",
              "\n",
              "      <script>\n",
              "        const buttonEl =\n",
              "          document.querySelector('#df-ca6285b3-0b84-4383-9a85-89f4b3f14c93 button.colab-df-convert');\n",
              "        buttonEl.style.display =\n",
              "          google.colab.kernel.accessAllowed ? 'block' : 'none';\n",
              "\n",
              "        async function convertToInteractive(key) {\n",
              "          const element = document.querySelector('#df-ca6285b3-0b84-4383-9a85-89f4b3f14c93');\n",
              "          const dataTable =\n",
              "            await google.colab.kernel.invokeFunction('convertToInteractive',\n",
              "                                                     [key], {});\n",
              "          if (!dataTable) return;\n",
              "\n",
              "          const docLinkHtml = 'Like what you see? Visit the ' +\n",
              "            '<a target=\"_blank\" href=https://colab.research.google.com/notebooks/data_table.ipynb>data table notebook</a>'\n",
              "            + ' to learn more about interactive tables.';\n",
              "          element.innerHTML = '';\n",
              "          dataTable['output_type'] = 'display_data';\n",
              "          await google.colab.output.renderOutput(dataTable, element);\n",
              "          const docLink = document.createElement('div');\n",
              "          docLink.innerHTML = docLinkHtml;\n",
              "          element.appendChild(docLink);\n",
              "        }\n",
              "      </script>\n",
              "    </div>\n",
              "  </div>\n"
            ]
          },
          "metadata": {},
          "execution_count": 2
        }
      ]
    },
    {
      "cell_type": "code",
      "source": [
        "sales= pd.read_csv(\"/content/advertising.csv\")\n",
        "sales.head()\n"
      ],
      "metadata": {
        "colab": {
          "base_uri": "https://localhost:8080/",
          "height": 206
        },
        "id": "J3E9_VgaKqZF",
        "outputId": "673466f8-721f-4c0b-d5ac-14dcd66c1890"
      },
      "execution_count": null,
      "outputs": [
        {
          "output_type": "execute_result",
          "data": {
            "text/plain": [
              "      TV  Radio  Newspaper  Sales\n",
              "0  230.1   37.8       69.2   22.1\n",
              "1   44.5   39.3       45.1   10.4\n",
              "2   17.2   45.9       69.3   12.0\n",
              "3  151.5   41.3       58.5   16.5\n",
              "4  180.8   10.8       58.4   17.9"
            ],
            "text/html": [
              "\n",
              "\n",
              "  <div id=\"df-aca6a560-b513-4542-8006-0326d8689889\">\n",
              "    <div class=\"colab-df-container\">\n",
              "      <div>\n",
              "<style scoped>\n",
              "    .dataframe tbody tr th:only-of-type {\n",
              "        vertical-align: middle;\n",
              "    }\n",
              "\n",
              "    .dataframe tbody tr th {\n",
              "        vertical-align: top;\n",
              "    }\n",
              "\n",
              "    .dataframe thead th {\n",
              "        text-align: right;\n",
              "    }\n",
              "</style>\n",
              "<table border=\"1\" class=\"dataframe\">\n",
              "  <thead>\n",
              "    <tr style=\"text-align: right;\">\n",
              "      <th></th>\n",
              "      <th>TV</th>\n",
              "      <th>Radio</th>\n",
              "      <th>Newspaper</th>\n",
              "      <th>Sales</th>\n",
              "    </tr>\n",
              "  </thead>\n",
              "  <tbody>\n",
              "    <tr>\n",
              "      <th>0</th>\n",
              "      <td>230.1</td>\n",
              "      <td>37.8</td>\n",
              "      <td>69.2</td>\n",
              "      <td>22.1</td>\n",
              "    </tr>\n",
              "    <tr>\n",
              "      <th>1</th>\n",
              "      <td>44.5</td>\n",
              "      <td>39.3</td>\n",
              "      <td>45.1</td>\n",
              "      <td>10.4</td>\n",
              "    </tr>\n",
              "    <tr>\n",
              "      <th>2</th>\n",
              "      <td>17.2</td>\n",
              "      <td>45.9</td>\n",
              "      <td>69.3</td>\n",
              "      <td>12.0</td>\n",
              "    </tr>\n",
              "    <tr>\n",
              "      <th>3</th>\n",
              "      <td>151.5</td>\n",
              "      <td>41.3</td>\n",
              "      <td>58.5</td>\n",
              "      <td>16.5</td>\n",
              "    </tr>\n",
              "    <tr>\n",
              "      <th>4</th>\n",
              "      <td>180.8</td>\n",
              "      <td>10.8</td>\n",
              "      <td>58.4</td>\n",
              "      <td>17.9</td>\n",
              "    </tr>\n",
              "  </tbody>\n",
              "</table>\n",
              "</div>\n",
              "      <button class=\"colab-df-convert\" onclick=\"convertToInteractive('df-aca6a560-b513-4542-8006-0326d8689889')\"\n",
              "              title=\"Convert this dataframe to an interactive table.\"\n",
              "              style=\"display:none;\">\n",
              "\n",
              "  <svg xmlns=\"http://www.w3.org/2000/svg\" height=\"24px\"viewBox=\"0 0 24 24\"\n",
              "       width=\"24px\">\n",
              "    <path d=\"M0 0h24v24H0V0z\" fill=\"none\"/>\n",
              "    <path d=\"M18.56 5.44l.94 2.06.94-2.06 2.06-.94-2.06-.94-.94-2.06-.94 2.06-2.06.94zm-11 1L8.5 8.5l.94-2.06 2.06-.94-2.06-.94L8.5 2.5l-.94 2.06-2.06.94zm10 10l.94 2.06.94-2.06 2.06-.94-2.06-.94-.94-2.06-.94 2.06-2.06.94z\"/><path d=\"M17.41 7.96l-1.37-1.37c-.4-.4-.92-.59-1.43-.59-.52 0-1.04.2-1.43.59L10.3 9.45l-7.72 7.72c-.78.78-.78 2.05 0 2.83L4 21.41c.39.39.9.59 1.41.59.51 0 1.02-.2 1.41-.59l7.78-7.78 2.81-2.81c.8-.78.8-2.07 0-2.86zM5.41 20L4 18.59l7.72-7.72 1.47 1.35L5.41 20z\"/>\n",
              "  </svg>\n",
              "      </button>\n",
              "\n",
              "\n",
              "\n",
              "    <div id=\"df-47aa757b-5b70-4a1d-b038-b9bc13397d76\">\n",
              "      <button class=\"colab-df-quickchart\" onclick=\"quickchart('df-47aa757b-5b70-4a1d-b038-b9bc13397d76')\"\n",
              "              title=\"Suggest charts.\"\n",
              "              style=\"display:none;\">\n",
              "\n",
              "<svg xmlns=\"http://www.w3.org/2000/svg\" height=\"24px\"viewBox=\"0 0 24 24\"\n",
              "     width=\"24px\">\n",
              "    <g>\n",
              "        <path d=\"M19 3H5c-1.1 0-2 .9-2 2v14c0 1.1.9 2 2 2h14c1.1 0 2-.9 2-2V5c0-1.1-.9-2-2-2zM9 17H7v-7h2v7zm4 0h-2V7h2v10zm4 0h-2v-4h2v4z\"/>\n",
              "    </g>\n",
              "</svg>\n",
              "      </button>\n",
              "    </div>\n",
              "\n",
              "<style>\n",
              "  .colab-df-quickchart {\n",
              "    background-color: #E8F0FE;\n",
              "    border: none;\n",
              "    border-radius: 50%;\n",
              "    cursor: pointer;\n",
              "    display: none;\n",
              "    fill: #1967D2;\n",
              "    height: 32px;\n",
              "    padding: 0 0 0 0;\n",
              "    width: 32px;\n",
              "  }\n",
              "\n",
              "  .colab-df-quickchart:hover {\n",
              "    background-color: #E2EBFA;\n",
              "    box-shadow: 0px 1px 2px rgba(60, 64, 67, 0.3), 0px 1px 3px 1px rgba(60, 64, 67, 0.15);\n",
              "    fill: #174EA6;\n",
              "  }\n",
              "\n",
              "  [theme=dark] .colab-df-quickchart {\n",
              "    background-color: #3B4455;\n",
              "    fill: #D2E3FC;\n",
              "  }\n",
              "\n",
              "  [theme=dark] .colab-df-quickchart:hover {\n",
              "    background-color: #434B5C;\n",
              "    box-shadow: 0px 1px 3px 1px rgba(0, 0, 0, 0.15);\n",
              "    filter: drop-shadow(0px 1px 2px rgba(0, 0, 0, 0.3));\n",
              "    fill: #FFFFFF;\n",
              "  }\n",
              "</style>\n",
              "\n",
              "    <script>\n",
              "      async function quickchart(key) {\n",
              "        const containerElement = document.querySelector('#' + key);\n",
              "        const charts = await google.colab.kernel.invokeFunction(\n",
              "            'suggestCharts', [key], {});\n",
              "      }\n",
              "    </script>\n",
              "\n",
              "      <script>\n",
              "\n",
              "function displayQuickchartButton(domScope) {\n",
              "  let quickchartButtonEl =\n",
              "    domScope.querySelector('#df-47aa757b-5b70-4a1d-b038-b9bc13397d76 button.colab-df-quickchart');\n",
              "  quickchartButtonEl.style.display =\n",
              "    google.colab.kernel.accessAllowed ? 'block' : 'none';\n",
              "}\n",
              "\n",
              "        displayQuickchartButton(document);\n",
              "      </script>\n",
              "      <style>\n",
              "    .colab-df-container {\n",
              "      display:flex;\n",
              "      flex-wrap:wrap;\n",
              "      gap: 12px;\n",
              "    }\n",
              "\n",
              "    .colab-df-convert {\n",
              "      background-color: #E8F0FE;\n",
              "      border: none;\n",
              "      border-radius: 50%;\n",
              "      cursor: pointer;\n",
              "      display: none;\n",
              "      fill: #1967D2;\n",
              "      height: 32px;\n",
              "      padding: 0 0 0 0;\n",
              "      width: 32px;\n",
              "    }\n",
              "\n",
              "    .colab-df-convert:hover {\n",
              "      background-color: #E2EBFA;\n",
              "      box-shadow: 0px 1px 2px rgba(60, 64, 67, 0.3), 0px 1px 3px 1px rgba(60, 64, 67, 0.15);\n",
              "      fill: #174EA6;\n",
              "    }\n",
              "\n",
              "    [theme=dark] .colab-df-convert {\n",
              "      background-color: #3B4455;\n",
              "      fill: #D2E3FC;\n",
              "    }\n",
              "\n",
              "    [theme=dark] .colab-df-convert:hover {\n",
              "      background-color: #434B5C;\n",
              "      box-shadow: 0px 1px 3px 1px rgba(0, 0, 0, 0.15);\n",
              "      filter: drop-shadow(0px 1px 2px rgba(0, 0, 0, 0.3));\n",
              "      fill: #FFFFFF;\n",
              "    }\n",
              "  </style>\n",
              "\n",
              "      <script>\n",
              "        const buttonEl =\n",
              "          document.querySelector('#df-aca6a560-b513-4542-8006-0326d8689889 button.colab-df-convert');\n",
              "        buttonEl.style.display =\n",
              "          google.colab.kernel.accessAllowed ? 'block' : 'none';\n",
              "\n",
              "        async function convertToInteractive(key) {\n",
              "          const element = document.querySelector('#df-aca6a560-b513-4542-8006-0326d8689889');\n",
              "          const dataTable =\n",
              "            await google.colab.kernel.invokeFunction('convertToInteractive',\n",
              "                                                     [key], {});\n",
              "          if (!dataTable) return;\n",
              "\n",
              "          const docLinkHtml = 'Like what you see? Visit the ' +\n",
              "            '<a target=\"_blank\" href=https://colab.research.google.com/notebooks/data_table.ipynb>data table notebook</a>'\n",
              "            + ' to learn more about interactive tables.';\n",
              "          element.innerHTML = '';\n",
              "          dataTable['output_type'] = 'display_data';\n",
              "          await google.colab.output.renderOutput(dataTable, element);\n",
              "          const docLink = document.createElement('div');\n",
              "          docLink.innerHTML = docLinkHtml;\n",
              "          element.appendChild(docLink);\n",
              "        }\n",
              "      </script>\n",
              "    </div>\n",
              "  </div>\n"
            ]
          },
          "metadata": {},
          "execution_count": 3
        }
      ]
    },
    {
      "cell_type": "code",
      "source": [
        "sales.shape"
      ],
      "metadata": {
        "colab": {
          "base_uri": "https://localhost:8080/"
        },
        "id": "ndYLgKFJLbfn",
        "outputId": "d745c201-73af-49f2-c8be-5e8800e2aaa2"
      },
      "execution_count": null,
      "outputs": [
        {
          "output_type": "execute_result",
          "data": {
            "text/plain": [
              "(200, 4)"
            ]
          },
          "metadata": {},
          "execution_count": 4
        }
      ]
    },
    {
      "cell_type": "code",
      "source": [
        "sales.describe()"
      ],
      "metadata": {
        "colab": {
          "base_uri": "https://localhost:8080/",
          "height": 300
        },
        "id": "H7N47mnnLpev",
        "outputId": "3c787954-3c9f-4bd9-a6eb-b8987693fc5e"
      },
      "execution_count": null,
      "outputs": [
        {
          "output_type": "execute_result",
          "data": {
            "text/plain": [
              "               TV       Radio   Newspaper       Sales\n",
              "count  200.000000  200.000000  200.000000  200.000000\n",
              "mean   147.042500   23.264000   30.554000   15.130500\n",
              "std     85.854236   14.846809   21.778621    5.283892\n",
              "min      0.700000    0.000000    0.300000    1.600000\n",
              "25%     74.375000    9.975000   12.750000   11.000000\n",
              "50%    149.750000   22.900000   25.750000   16.000000\n",
              "75%    218.825000   36.525000   45.100000   19.050000\n",
              "max    296.400000   49.600000  114.000000   27.000000"
            ],
            "text/html": [
              "\n",
              "\n",
              "  <div id=\"df-76ed10e4-86a9-4176-9293-ec2a919c2a89\">\n",
              "    <div class=\"colab-df-container\">\n",
              "      <div>\n",
              "<style scoped>\n",
              "    .dataframe tbody tr th:only-of-type {\n",
              "        vertical-align: middle;\n",
              "    }\n",
              "\n",
              "    .dataframe tbody tr th {\n",
              "        vertical-align: top;\n",
              "    }\n",
              "\n",
              "    .dataframe thead th {\n",
              "        text-align: right;\n",
              "    }\n",
              "</style>\n",
              "<table border=\"1\" class=\"dataframe\">\n",
              "  <thead>\n",
              "    <tr style=\"text-align: right;\">\n",
              "      <th></th>\n",
              "      <th>TV</th>\n",
              "      <th>Radio</th>\n",
              "      <th>Newspaper</th>\n",
              "      <th>Sales</th>\n",
              "    </tr>\n",
              "  </thead>\n",
              "  <tbody>\n",
              "    <tr>\n",
              "      <th>count</th>\n",
              "      <td>200.000000</td>\n",
              "      <td>200.000000</td>\n",
              "      <td>200.000000</td>\n",
              "      <td>200.000000</td>\n",
              "    </tr>\n",
              "    <tr>\n",
              "      <th>mean</th>\n",
              "      <td>147.042500</td>\n",
              "      <td>23.264000</td>\n",
              "      <td>30.554000</td>\n",
              "      <td>15.130500</td>\n",
              "    </tr>\n",
              "    <tr>\n",
              "      <th>std</th>\n",
              "      <td>85.854236</td>\n",
              "      <td>14.846809</td>\n",
              "      <td>21.778621</td>\n",
              "      <td>5.283892</td>\n",
              "    </tr>\n",
              "    <tr>\n",
              "      <th>min</th>\n",
              "      <td>0.700000</td>\n",
              "      <td>0.000000</td>\n",
              "      <td>0.300000</td>\n",
              "      <td>1.600000</td>\n",
              "    </tr>\n",
              "    <tr>\n",
              "      <th>25%</th>\n",
              "      <td>74.375000</td>\n",
              "      <td>9.975000</td>\n",
              "      <td>12.750000</td>\n",
              "      <td>11.000000</td>\n",
              "    </tr>\n",
              "    <tr>\n",
              "      <th>50%</th>\n",
              "      <td>149.750000</td>\n",
              "      <td>22.900000</td>\n",
              "      <td>25.750000</td>\n",
              "      <td>16.000000</td>\n",
              "    </tr>\n",
              "    <tr>\n",
              "      <th>75%</th>\n",
              "      <td>218.825000</td>\n",
              "      <td>36.525000</td>\n",
              "      <td>45.100000</td>\n",
              "      <td>19.050000</td>\n",
              "    </tr>\n",
              "    <tr>\n",
              "      <th>max</th>\n",
              "      <td>296.400000</td>\n",
              "      <td>49.600000</td>\n",
              "      <td>114.000000</td>\n",
              "      <td>27.000000</td>\n",
              "    </tr>\n",
              "  </tbody>\n",
              "</table>\n",
              "</div>\n",
              "      <button class=\"colab-df-convert\" onclick=\"convertToInteractive('df-76ed10e4-86a9-4176-9293-ec2a919c2a89')\"\n",
              "              title=\"Convert this dataframe to an interactive table.\"\n",
              "              style=\"display:none;\">\n",
              "\n",
              "  <svg xmlns=\"http://www.w3.org/2000/svg\" height=\"24px\"viewBox=\"0 0 24 24\"\n",
              "       width=\"24px\">\n",
              "    <path d=\"M0 0h24v24H0V0z\" fill=\"none\"/>\n",
              "    <path d=\"M18.56 5.44l.94 2.06.94-2.06 2.06-.94-2.06-.94-.94-2.06-.94 2.06-2.06.94zm-11 1L8.5 8.5l.94-2.06 2.06-.94-2.06-.94L8.5 2.5l-.94 2.06-2.06.94zm10 10l.94 2.06.94-2.06 2.06-.94-2.06-.94-.94-2.06-.94 2.06-2.06.94z\"/><path d=\"M17.41 7.96l-1.37-1.37c-.4-.4-.92-.59-1.43-.59-.52 0-1.04.2-1.43.59L10.3 9.45l-7.72 7.72c-.78.78-.78 2.05 0 2.83L4 21.41c.39.39.9.59 1.41.59.51 0 1.02-.2 1.41-.59l7.78-7.78 2.81-2.81c.8-.78.8-2.07 0-2.86zM5.41 20L4 18.59l7.72-7.72 1.47 1.35L5.41 20z\"/>\n",
              "  </svg>\n",
              "      </button>\n",
              "\n",
              "\n",
              "\n",
              "    <div id=\"df-7b21f78a-aa17-4f86-bda7-6763638e5d52\">\n",
              "      <button class=\"colab-df-quickchart\" onclick=\"quickchart('df-7b21f78a-aa17-4f86-bda7-6763638e5d52')\"\n",
              "              title=\"Suggest charts.\"\n",
              "              style=\"display:none;\">\n",
              "\n",
              "<svg xmlns=\"http://www.w3.org/2000/svg\" height=\"24px\"viewBox=\"0 0 24 24\"\n",
              "     width=\"24px\">\n",
              "    <g>\n",
              "        <path d=\"M19 3H5c-1.1 0-2 .9-2 2v14c0 1.1.9 2 2 2h14c1.1 0 2-.9 2-2V5c0-1.1-.9-2-2-2zM9 17H7v-7h2v7zm4 0h-2V7h2v10zm4 0h-2v-4h2v4z\"/>\n",
              "    </g>\n",
              "</svg>\n",
              "      </button>\n",
              "    </div>\n",
              "\n",
              "<style>\n",
              "  .colab-df-quickchart {\n",
              "    background-color: #E8F0FE;\n",
              "    border: none;\n",
              "    border-radius: 50%;\n",
              "    cursor: pointer;\n",
              "    display: none;\n",
              "    fill: #1967D2;\n",
              "    height: 32px;\n",
              "    padding: 0 0 0 0;\n",
              "    width: 32px;\n",
              "  }\n",
              "\n",
              "  .colab-df-quickchart:hover {\n",
              "    background-color: #E2EBFA;\n",
              "    box-shadow: 0px 1px 2px rgba(60, 64, 67, 0.3), 0px 1px 3px 1px rgba(60, 64, 67, 0.15);\n",
              "    fill: #174EA6;\n",
              "  }\n",
              "\n",
              "  [theme=dark] .colab-df-quickchart {\n",
              "    background-color: #3B4455;\n",
              "    fill: #D2E3FC;\n",
              "  }\n",
              "\n",
              "  [theme=dark] .colab-df-quickchart:hover {\n",
              "    background-color: #434B5C;\n",
              "    box-shadow: 0px 1px 3px 1px rgba(0, 0, 0, 0.15);\n",
              "    filter: drop-shadow(0px 1px 2px rgba(0, 0, 0, 0.3));\n",
              "    fill: #FFFFFF;\n",
              "  }\n",
              "</style>\n",
              "\n",
              "    <script>\n",
              "      async function quickchart(key) {\n",
              "        const containerElement = document.querySelector('#' + key);\n",
              "        const charts = await google.colab.kernel.invokeFunction(\n",
              "            'suggestCharts', [key], {});\n",
              "      }\n",
              "    </script>\n",
              "\n",
              "      <script>\n",
              "\n",
              "function displayQuickchartButton(domScope) {\n",
              "  let quickchartButtonEl =\n",
              "    domScope.querySelector('#df-7b21f78a-aa17-4f86-bda7-6763638e5d52 button.colab-df-quickchart');\n",
              "  quickchartButtonEl.style.display =\n",
              "    google.colab.kernel.accessAllowed ? 'block' : 'none';\n",
              "}\n",
              "\n",
              "        displayQuickchartButton(document);\n",
              "      </script>\n",
              "      <style>\n",
              "    .colab-df-container {\n",
              "      display:flex;\n",
              "      flex-wrap:wrap;\n",
              "      gap: 12px;\n",
              "    }\n",
              "\n",
              "    .colab-df-convert {\n",
              "      background-color: #E8F0FE;\n",
              "      border: none;\n",
              "      border-radius: 50%;\n",
              "      cursor: pointer;\n",
              "      display: none;\n",
              "      fill: #1967D2;\n",
              "      height: 32px;\n",
              "      padding: 0 0 0 0;\n",
              "      width: 32px;\n",
              "    }\n",
              "\n",
              "    .colab-df-convert:hover {\n",
              "      background-color: #E2EBFA;\n",
              "      box-shadow: 0px 1px 2px rgba(60, 64, 67, 0.3), 0px 1px 3px 1px rgba(60, 64, 67, 0.15);\n",
              "      fill: #174EA6;\n",
              "    }\n",
              "\n",
              "    [theme=dark] .colab-df-convert {\n",
              "      background-color: #3B4455;\n",
              "      fill: #D2E3FC;\n",
              "    }\n",
              "\n",
              "    [theme=dark] .colab-df-convert:hover {\n",
              "      background-color: #434B5C;\n",
              "      box-shadow: 0px 1px 3px 1px rgba(0, 0, 0, 0.15);\n",
              "      filter: drop-shadow(0px 1px 2px rgba(0, 0, 0, 0.3));\n",
              "      fill: #FFFFFF;\n",
              "    }\n",
              "  </style>\n",
              "\n",
              "      <script>\n",
              "        const buttonEl =\n",
              "          document.querySelector('#df-76ed10e4-86a9-4176-9293-ec2a919c2a89 button.colab-df-convert');\n",
              "        buttonEl.style.display =\n",
              "          google.colab.kernel.accessAllowed ? 'block' : 'none';\n",
              "\n",
              "        async function convertToInteractive(key) {\n",
              "          const element = document.querySelector('#df-76ed10e4-86a9-4176-9293-ec2a919c2a89');\n",
              "          const dataTable =\n",
              "            await google.colab.kernel.invokeFunction('convertToInteractive',\n",
              "                                                     [key], {});\n",
              "          if (!dataTable) return;\n",
              "\n",
              "          const docLinkHtml = 'Like what you see? Visit the ' +\n",
              "            '<a target=\"_blank\" href=https://colab.research.google.com/notebooks/data_table.ipynb>data table notebook</a>'\n",
              "            + ' to learn more about interactive tables.';\n",
              "          element.innerHTML = '';\n",
              "          dataTable['output_type'] = 'display_data';\n",
              "          await google.colab.output.renderOutput(dataTable, element);\n",
              "          const docLink = document.createElement('div');\n",
              "          docLink.innerHTML = docLinkHtml;\n",
              "          element.appendChild(docLink);\n",
              "        }\n",
              "      </script>\n",
              "    </div>\n",
              "  </div>\n"
            ]
          },
          "metadata": {},
          "execution_count": 5
        }
      ]
    },
    {
      "cell_type": "markdown",
      "source": [
        "The Above Analysis tells us about al the parameters or variables for ous study with the values like mean, max,standard,etc."
      ],
      "metadata": {
        "id": "1Lb2P2SNL4ew"
      }
    },
    {
      "cell_type": "code",
      "source": [
        "sales.isnull().sum()*100/sales.shape[0]\n"
      ],
      "metadata": {
        "colab": {
          "base_uri": "https://localhost:8080/"
        },
        "id": "CB3C0xqYLsWL",
        "outputId": "218e682a-38d4-4ae3-83a9-ef78d6344dd5"
      },
      "execution_count": null,
      "outputs": [
        {
          "output_type": "execute_result",
          "data": {
            "text/plain": [
              "TV           0.0\n",
              "Radio        0.0\n",
              "Newspaper    0.0\n",
              "Sales        0.0\n",
              "dtype: float64"
            ]
          },
          "metadata": {},
          "execution_count": 6
        }
      ]
    },
    {
      "cell_type": "markdown",
      "source": [
        "This is used for the data cleaning Process where we will check the null values of the parameters or our products which we will use for our sales prediction"
      ],
      "metadata": {
        "id": "0LrN-67sMVmd"
      }
    },
    {
      "cell_type": "markdown",
      "source": [
        "Here, as we see there are no null values, hence we do not have to consider the data cleaning process and it makes our work easier"
      ],
      "metadata": {
        "id": "93NZLkEaMmrd"
      }
    },
    {
      "cell_type": "code",
      "source": [
        "import matplotlib.pyplot as plt\n",
        "import seaborn as sns\n",
        "\n",
        "\n",
        "fig, axs = plt.subplots(3, figsize=(8, 6))\n",
        "\n",
        "plt1 = sns.boxplot(x=sales['TV'], ax=axs[0])\n",
        "plt2 = sns.boxplot(x=sales['Newspaper'], ax=axs[1])\n",
        "plt3 = sns.boxplot(x=sales['Radio'], ax=axs[2])\n",
        "\n",
        "axs[0].set_xlabel('TV')\n",
        "axs[1].set_xlabel('Newspaper')\n",
        "axs[2].set_xlabel('Radio')\n",
        "\n",
        "plt.tight_layout()\n",
        "plt.show()\n"
      ],
      "metadata": {
        "colab": {
          "base_uri": "https://localhost:8080/",
          "height": 607
        },
        "id": "X50i5lbZM7Ex",
        "outputId": "b75878ed-447c-4d67-dad9-48f40ef95c3a"
      },
      "execution_count": null,
      "outputs": [
        {
          "output_type": "display_data",
          "data": {
            "text/plain": [
              "<Figure size 800x600 with 3 Axes>"
            ],
            "image/png": "[encoded data removed]"
          },
          "metadata": {}
        }
      ]
    },
    {
      "cell_type": "markdown",
      "source": [
        "This Shows the Advertising Spending Distribution across 3 various Advertising Channels"
      ],
      "metadata": {
        "id": "AN_qrASLOZ-m"
      }
    },
    {
      "cell_type": "code",
      "source": [
        "sns.boxplot(sales['Sales'])\n",
        "plt.show()\n"
      ],
      "metadata": {
        "colab": {
          "base_uri": "https://localhost:8080/",
          "height": 430
        },
        "id": "zBM2o_4jN6wF",
        "outputId": "4ba0c840-a5ab-4e94-e9d9-dcb9da4c8fe1"
      },
      "execution_count": null,
      "outputs": [
        {
          "output_type": "display_data",
          "data": {
            "text/plain": [
              "<Figure size 640x480 with 1 Axes>"
            ],
            "image/png": "[encoded data removed]"
          },
          "metadata": {}
        }
      ]
    },
    {
      "cell_type": "code",
      "source": [
        "sns.pairplot(sales, x_vars=['TV', 'Newspaper', 'Radio'], y_vars='Sales', height=4, aspect=1, kind='scatter')\n",
        "plt.show()"
      ],
      "metadata": {
        "colab": {
          "base_uri": "https://localhost:8080/",
          "height": 392
        },
        "id": "OcGJg1ewQDHE",
        "outputId": "cd3c43e6-0f57-4985-9322-9aa3e20384ca"
      },
      "execution_count": null,
      "outputs": [
        {
          "output_type": "display_data",
          "data": {
            "text/plain": [
              "<Figure size 1200x400 with 3 Axes>"
            ],
            "image/png": "[encoded data removed]"
          },
          "metadata": {}
        }
      ]
    },
    {
      "cell_type": "code",
      "source": [
        "import matplotlib.pyplot as plt\n",
        "\n",
        "\n",
        "plt.scatter(sales['TV'], sales['Sales'], label='Data points')\n",
        "\n",
        "intercept = 6.948\n",
        "slope = 0.054\n",
        "plt.plot(sales['TV'], intercept + slope * sales['TV'], 'r', label='Linear Regression Line')\n",
        "\n",
        "plt.xlabel('TV Advertising Spending')\n",
        "plt.ylabel('Sales')\n",
        "plt.legend()\n",
        "\n",
        "plt.show()\n"
      ],
      "metadata": {
        "colab": {
          "base_uri": "https://localhost:8080/",
          "height": 449
        },
        "id": "ysEiI_yMTKk1",
        "outputId": "f5bb637f-d2de-4f25-c8e4-60291a65be98"
      },
      "execution_count": null,
      "outputs": [
        {
          "output_type": "display_data",
          "data": {
            "text/plain": [
              "<Figure size 640x480 with 1 Axes>"
            ],
            "image/png": "[encoded data removed]"
          },
          "metadata": {}
        }
      ]
    },
    {
      "cell_type": "code",
      "source": [
        "import matplotlib.pyplot as plt\n",
        "\n",
        "\n",
        "plt.scatter(sales['Radio'], sales['Sales'], label='Data points')\n",
        "\n",
        "intercept = 6.948\n",
        "slope = 0.054\n",
        "plt.plot(sales['Radio'], intercept + slope * sales['Radio'], 'r', label='Linear Regression Line')\n",
        "\n",
        "plt.xlabel('Radio Advertising Spending')\n",
        "plt.ylabel('Sales')\n",
        "plt.legend()\n",
        "\n",
        "plt.show()\n"
      ],
      "metadata": {
        "colab": {
          "base_uri": "https://localhost:8080/",
          "height": 449
        },
        "id": "fOcOCfgcTzQA",
        "outputId": "23da94b4-fc24-48ad-cd63-fbe99cbd454b"
      },
      "execution_count": null,
      "outputs": [
        {
          "output_type": "display_data",
          "data": {
            "text/plain": [
              "<Figure size 640x480 with 1 Axes>"
            ],
            "image/png": "[encoded data removed]"
          },
          "metadata": {}
        }
      ]
    },
    {
      "cell_type": "code",
      "source": [
        "import matplotlib.pyplot as plt\n",
        "\n",
        "\n",
        "plt.scatter(sales['Newspaper'], sales['Sales'], label='Data points')\n",
        "\n",
        "intercept = 6.948\n",
        "slope = 0.054\n",
        "plt.plot(sales['Newspaper'], intercept + slope * sales['Newspaper'], 'r', label='Linear Regression Line')\n",
        "\n",
        "plt.xlabel('Newspaper Advertising Spending')\n",
        "plt.ylabel('Sales')\n",
        "plt.legend()\n",
        "\n",
        "plt.show()\n"
      ],
      "metadata": {
        "colab": {
          "base_uri": "https://localhost:8080/",
          "height": 449
        },
        "id": "IT9qPpuxUBp_",
        "outputId": "7932f3e4-bf0f-4d42-dbaa-f1d983f0d99d"
      },
      "execution_count": null,
      "outputs": [
        {
          "output_type": "display_data",
          "data": {
            "text/plain": [
              "<Figure size 640x480 with 1 Axes>"
            ],
            "image/png": "[encoded data removed]"
          },
          "metadata": {}
        }
      ]
    },
    {
      "cell_type": "markdown",
      "source": [
        "Here by analysing all the above outputs using the regression line of all the 3 parameters, we see that the regreesion line for the Parameter or Product \"TV\" had many data points in close connection with the Regression Line. Hence we will now consider Tv as our parameter for the further Analysis"
      ],
      "metadata": {
        "id": "un4B7cLrUK9z"
      }
    },
    {
      "cell_type": "code",
      "source": [
        "import pandas as pd\n",
        "\n",
        "correlation_matrix = sales[['TV', 'Newspaper', 'Radio', 'Sales']].corr()\n",
        "\n",
        "print(correlation_matrix)"
      ],
      "metadata": {
        "colab": {
          "base_uri": "https://localhost:8080/"
        },
        "id": "wohvpSl-QhSX",
        "outputId": "4478a5d8-149c-4a69-8292-166d8cf61014"
      },
      "execution_count": null,
      "outputs": [
        {
          "output_type": "stream",
          "name": "stdout",
          "text": [
            "                 TV  Newspaper     Radio     Sales\n",
            "TV         1.000000   0.056648  0.054809  0.901208\n",
            "Newspaper  0.056648   1.000000  0.354104  0.157960\n",
            "Radio      0.054809   0.354104  1.000000  0.349631\n",
            "Sales      0.901208   0.157960  0.349631  1.000000\n"
          ]
        }
      ]
    },
    {
      "cell_type": "code",
      "source": [
        "sns.heatmap(sales.corr(), cmap=\"YlGnBu\", annot = True)\n",
        "plt.show()\n"
      ],
      "metadata": {
        "colab": {
          "base_uri": "https://localhost:8080/",
          "height": 435
        },
        "id": "sBRtgROhSvr6",
        "outputId": "79c6fef5-765f-4c31-a354-c4946093ce03"
      },
      "execution_count": null,
      "outputs": [
        {
          "output_type": "display_data",
          "data": {
            "text/plain": [
              "<Figure size 640x480 with 2 Axes>"
            ],
            "image/png": "[encoded data removed]"
          },
          "metadata": {}
        }
      ]
    },
    {
      "cell_type": "markdown",
      "source": [
        "Using Heatmap also we can see that Tv has a very close figure when compared to the sales data"
      ],
      "metadata": {
        "id": "oB92t5QDVN5k"
      }
    },
    {
      "cell_type": "code",
      "source": [
        "X = sales['TV']\n",
        "y = sales['Sales']"
      ],
      "metadata": {
        "id": "vlL53b0ZS3EW"
      },
      "execution_count": null,
      "outputs": []
    },
    {
      "cell_type": "code",
      "source": [
        "X.info()"
      ],
      "metadata": {
        "colab": {
          "base_uri": "https://localhost:8080/"
        },
        "id": "EYOay1MMVeUC",
        "outputId": "4cdb5e2f-b9c4-4773-b9d6-b1df00929413"
      },
      "execution_count": null,
      "outputs": [
        {
          "output_type": "stream",
          "name": "stdout",
          "text": [
            "<class 'pandas.core.series.Series'>\n",
            "RangeIndex: 200 entries, 0 to 199\n",
            "Series name: TV\n",
            "Non-Null Count  Dtype  \n",
            "--------------  -----  \n",
            "200 non-null    float64\n",
            "dtypes: float64(1)\n",
            "memory usage: 1.7 KB\n"
          ]
        }
      ]
    },
    {
      "cell_type": "code",
      "source": [
        "y.info()"
      ],
      "metadata": {
        "colab": {
          "base_uri": "https://localhost:8080/"
        },
        "id": "Io1uygiYVgFc",
        "outputId": "4662dbd8-84f7-4e4e-e5d1-b9baa02a5f87"
      },
      "execution_count": null,
      "outputs": [
        {
          "output_type": "stream",
          "name": "stdout",
          "text": [
            "<class 'pandas.core.series.Series'>\n",
            "RangeIndex: 200 entries, 0 to 199\n",
            "Series name: Sales\n",
            "Non-Null Count  Dtype  \n",
            "--------------  -----  \n",
            "200 non-null    float64\n",
            "dtypes: float64(1)\n",
            "memory usage: 1.7 KB\n"
          ]
        }
      ]
    },
    {
      "cell_type": "code",
      "source": [
        "X.sample(8)"
      ],
      "metadata": {
        "colab": {
          "base_uri": "https://localhost:8080/"
        },
        "id": "vk-828ucVrc3",
        "outputId": "a6bd549f-b7dc-4575-c423-ba2377e2ecc9"
      },
      "execution_count": null,
      "outputs": [
        {
          "output_type": "execute_result",
          "data": {
            "text/plain": [
              "199    232.1\n",
              "34      95.7\n",
              "171    164.5\n",
              "164    117.2\n",
              "44      25.1\n",
              "170     50.0\n",
              "159    131.7\n",
              "56       7.3\n",
              "Name: TV, dtype: float64"
            ]
          },
          "metadata": {},
          "execution_count": 18
        }
      ]
    },
    {
      "cell_type": "code",
      "source": [
        "y.sample(6)"
      ],
      "metadata": {
        "colab": {
          "base_uri": "https://localhost:8080/"
        },
        "id": "nTtijYXXVsxN",
        "outputId": "12584a85-f1ca-47f6-cb2b-69915f5fdabc"
      },
      "execution_count": null,
      "outputs": [
        {
          "output_type": "execute_result",
          "data": {
            "text/plain": [
              "7      13.2\n",
              "126     6.6\n",
              "92     19.4\n",
              "156    15.3\n",
              "88     12.9\n",
              "125    10.6\n",
              "Name: Sales, dtype: float64"
            ]
          },
          "metadata": {},
          "execution_count": 19
        }
      ]
    },
    {
      "cell_type": "code",
      "source": [
        "from sklearn.model_selection import train_test_split\n",
        "X_train, X_test, y_train, y_test = train_test_split(X, y, train_size = 0.7, test_size = 0.3, random_state = 100)"
      ],
      "metadata": {
        "id": "CKu_YAsvVuqJ"
      },
      "execution_count": null,
      "outputs": []
    },
    {
      "cell_type": "code",
      "source": [
        "X_train.head()"
      ],
      "metadata": {
        "colab": {
          "base_uri": "https://localhost:8080/"
        },
        "id": "tMv3cvTUbZXB",
        "outputId": "3bafd412-859a-4fa8-e81b-0e39ce97827c"
      },
      "execution_count": null,
      "outputs": [
        {
          "output_type": "execute_result",
          "data": {
            "text/plain": [
              "74     213.4\n",
              "3      151.5\n",
              "185    205.0\n",
              "26     142.9\n",
              "90     134.3\n",
              "Name: TV, dtype: float64"
            ]
          },
          "metadata": {},
          "execution_count": 21
        }
      ]
    },
    {
      "cell_type": "code",
      "source": [
        "X_test.head()"
      ],
      "metadata": {
        "colab": {
          "base_uri": "https://localhost:8080/"
        },
        "id": "_oyntrJibcGs",
        "outputId": "01521278-e3be-474a-c488-bb789d1db406"
      },
      "execution_count": null,
      "outputs": [
        {
          "output_type": "execute_result",
          "data": {
            "text/plain": [
              "126      7.8\n",
              "104    238.2\n",
              "99     135.2\n",
              "92     217.7\n",
              "111    241.7\n",
              "Name: TV, dtype: float64"
            ]
          },
          "metadata": {},
          "execution_count": 22
        }
      ]
    },
    {
      "cell_type": "code",
      "source": [
        "y_train.head()"
      ],
      "metadata": {
        "colab": {
          "base_uri": "https://localhost:8080/"
        },
        "id": "Y0gXI5TgbhOh",
        "outputId": "59473de1-102a-490a-dd54-53a2ab9662cb"
      },
      "execution_count": null,
      "outputs": [
        {
          "output_type": "execute_result",
          "data": {
            "text/plain": [
              "74     17.0\n",
              "3      16.5\n",
              "185    22.6\n",
              "26     15.0\n",
              "90     14.0\n",
              "Name: Sales, dtype: float64"
            ]
          },
          "metadata": {},
          "execution_count": 24
        }
      ]
    },
    {
      "cell_type": "code",
      "source": [
        "y_test.head()"
      ],
      "metadata": {
        "colab": {
          "base_uri": "https://localhost:8080/"
        },
        "id": "8ISRS5y8bl90",
        "outputId": "5169676b-94f6-43c7-a95b-399bdc8bd6dd"
      },
      "execution_count": null,
      "outputs": [
        {
          "output_type": "execute_result",
          "data": {
            "text/plain": [
              "126     6.6\n",
              "104    20.7\n",
              "99     17.2\n",
              "92     19.4\n",
              "111    21.8\n",
              "Name: Sales, dtype: float64"
            ]
          },
          "metadata": {},
          "execution_count": 25
        }
      ]
    },
    {
      "cell_type": "code",
      "source": [
        "sales = np.array(sales).reshape(1, -1)\n",
        "X_train = X_train.values.reshape(-1, 1)\n",
        "X_test = X_test.values.reshape(-1, 1)\n",
        "y_train = y_train.values.reshape(-1, 1)\n",
        "y_test = y_test.values.reshape(-1, 1)\n"
      ],
      "metadata": {
        "id": "5XQgRNj-dKxS"
      },
      "execution_count": null,
      "outputs": []
    },
    {
      "cell_type": "markdown",
      "source": [
        "# **RandomForestRegressor**"
      ],
      "metadata": {
        "id": "bTA_8N-Mm3Yk"
      }
    },
    {
      "cell_type": "code",
      "source": [
        "from sklearn.ensemble import RandomForestRegressor\n",
        "from sklearn.metrics import mean_squared_error, r2_score\n",
        "model = RandomForestRegressor(n_estimators=100, random_state=42)\n",
        "model.fit(X_train, y_train)"
      ],
      "metadata": {
        "colab": {
          "base_uri": "https://localhost:8080/",
          "height": 129
        },
        "id": "fhmSnuQvbrYI",
        "outputId": "b36651cb-e04a-452d-f716-f543bf0d0279"
      },
      "execution_count": null,
      "outputs": [
        {
          "output_type": "stream",
          "name": "stderr",
          "text": [
            "<ipython-input-34-6a6e697a3fa1>:4: DataConversionWarning: A column-vector y was passed when a 1d array was expected. Please change the shape of y to (n_samples,), for example using ravel().\n",
            "  model.fit(X_train, y_train)\n"
          ]
        },
        {
          "output_type": "execute_result",
          "data": {
            "text/plain": [
              "RandomForestRegressor(random_state=42)"
            ],
            "text/html": [
              "<style>#sk-container-id-1 {color: black;background-color: white;}#sk-container-id-1 pre{padding: 0;}#sk-container-id-1 div.sk-toggleable {background-color: white;}#sk-container-id-1 label.sk-toggleable__label {cursor: pointer;display: block;width: 100%;margin-bottom: 0;padding: 0.3em;box-sizing: border-box;text-align: center;}#sk-container-id-1 label.sk-toggleable__label-arrow:before {content: \"▸\";float: left;margin-right: 0.25em;color: #696969;}#sk-container-id-1 label.sk-toggleable__label-arrow:hover:before {color: black;}#sk-container-id-1 div.sk-estimator:hover label.sk-toggleable__label-arrow:before {color: black;}#sk-container-id-1 div.sk-toggleable__content {max-height: 0;max-width: 0;overflow: hidden;text-align: left;background-color: #f0f8ff;}#sk-container-id-1 div.sk-toggleable__content pre {margin: 0.2em;color: black;border-radius: 0.25em;background-color: #f0f8ff;}#sk-container-id-1 input.sk-toggleable__control:checked~div.sk-toggleable__content {max-height: 200px;max-width: 100%;overflow: auto;}#sk-container-id-1 input.sk-toggleable__control:checked~label.sk-toggleable__label-arrow:before {content: \"▾\";}#sk-container-id-1 div.sk-estimator input.sk-toggleable__control:checked~label.sk-toggleable__label {background-color: #d4ebff;}#sk-container-id-1 div.sk-label input.sk-toggleable__control:checked~label.sk-toggleable__label {background-color: #d4ebff;}#sk-container-id-1 input.sk-hidden--visually {border: 0;clip: rect(1px 1px 1px 1px);clip: rect(1px, 1px, 1px, 1px);height: 1px;margin: -1px;overflow: hidden;padding: 0;position: absolute;width: 1px;}#sk-container-id-1 div.sk-estimator {font-family: monospace;background-color: #f0f8ff;border: 1px dotted black;border-radius: 0.25em;box-sizing: border-box;margin-bottom: 0.5em;}#sk-container-id-1 div.sk-estimator:hover {background-color: #d4ebff;}#sk-container-id-1 div.sk-parallel-item::after {content: \"\";width: 100%;border-bottom: 1px solid gray;flex-grow: 1;}#sk-container-id-1 div.sk-label:hover label.sk-toggleable__label {background-color: #d4ebff;}#sk-container-id-1 div.sk-serial::before {content: \"\";position: absolute;border-left: 1px solid gray;box-sizing: border-box;top: 0;bottom: 0;left: 50%;z-index: 0;}#sk-container-id-1 div.sk-serial {display: flex;flex-direction: column;align-items: center;background-color: white;padding-right: 0.2em;padding-left: 0.2em;position: relative;}#sk-container-id-1 div.sk-item {position: relative;z-index: 1;}#sk-container-id-1 div.sk-parallel {display: flex;align-items: stretch;justify-content: center;background-color: white;position: relative;}#sk-container-id-1 div.sk-item::before, #sk-container-id-1 div.sk-parallel-item::before {content: \"\";position: absolute;border-left: 1px solid gray;box-sizing: border-box;top: 0;bottom: 0;left: 50%;z-index: -1;}#sk-container-id-1 div.sk-parallel-item {display: flex;flex-direction: column;z-index: 1;position: relative;background-color: white;}#sk-container-id-1 div.sk-parallel-item:first-child::after {align-self: flex-end;width: 50%;}#sk-container-id-1 div.sk-parallel-item:last-child::after {align-self: flex-start;width: 50%;}#sk-container-id-1 div.sk-parallel-item:only-child::after {width: 0;}#sk-container-id-1 div.sk-dashed-wrapped {border: 1px dashed gray;margin: 0 0.4em 0.5em 0.4em;box-sizing: border-box;padding-bottom: 0.4em;background-color: white;}#sk-container-id-1 div.sk-label label {font-family: monospace;font-weight: bold;display: inline-block;line-height: 1.2em;}#sk-container-id-1 div.sk-label-container {text-align: center;}#sk-container-id-1 div.sk-container {/* jupyter's `normalize.less` sets `[hidden] { display: none; }` but bootstrap.min.css set `[hidden] { display: none !important; }` so we also need the `!important` here to be able to override the default hidden behavior on the sphinx rendered scikit-learn.org. See: https://github.com/scikit-learn/scikit-learn/issues/21755 */display: inline-block !important;position: relative;}#sk-container-id-1 div.sk-text-repr-fallback {display: none;}</style><div id=\"sk-container-id-1\" class=\"sk-top-container\"><div class=\"sk-text-repr-fallback\"><pre>RandomForestRegressor(random_state=42)</pre><b>In a Jupyter environment, please rerun this cell to show the HTML representation or trust the notebook. <br />On GitHub, the HTML representation is unable to render, please try loading this page with nbviewer.org.</b></div><div class=\"sk-container\" hidden><div class=\"sk-item\"><div class=\"sk-estimator sk-toggleable\"><input class=\"sk-toggleable__control sk-hidden--visually\" id=\"sk-estimator-id-1\" type=\"checkbox\" checked><label for=\"sk-estimator-id-1\" class=\"sk-toggleable__label sk-toggleable__label-arrow\">RandomForestRegressor</label><div class=\"sk-toggleable__content\"><pre>RandomForestRegressor(random_state=42)</pre></div></div></div></div></div>"
            ]
          },
          "metadata": {},
          "execution_count": 34
        }
      ]
    },
    {
      "cell_type": "code",
      "source": [
        "y_pred = model.predict(X_test)\n",
        "\n",
        "y_pred\n"
      ],
      "metadata": {
        "colab": {
          "base_uri": "https://localhost:8080/"
        },
        "id": "kUBKjekHckHa",
        "outputId": "5ab41dc0-3ab1-4a0b-9103-503a564f5d28"
      },
      "execution_count": null,
      "outputs": [
        {
          "output_type": "execute_result",
          "data": {
            "text/plain": [
              "array([ 5.543     , 18.4241    , 13.801     , 18.805     , 23.257425  ,\n",
              "       19.364     , 12.486     , 21.809     , 18.877     , 18.877     ,\n",
              "       12.89758333, 21.459     , 10.638     , 19.065     , 12.79      ,\n",
              "       14.045     , 12.408     , 17.159     , 17.276     , 15.17476667,\n",
              "       20.269     , 13.595     , 20.48566667, 15.376     , 20.366     ,\n",
              "       19.151     , 19.151     , 12.843     , 20.366     , 14.229     ,\n",
              "       11.933     , 11.417     , 14.548     , 19.025     , 10.835     ,\n",
              "       12.9315    , 13.171     , 18.827     , 16.949     , 18.841     ,\n",
              "       20.269     , 15.916     , 17.577     , 18.605     , 12.9315    ,\n",
              "       12.457     , 10.261     , 20.6       , 11.484     , 10.833     ,\n",
              "       19.55366667, 16.474     , 13.767     , 13.259     , 22.289     ,\n",
              "       10.09      , 10.261     ,  8.196     , 21.809     , 12.728     ])"
            ]
          },
          "metadata": {},
          "execution_count": 38
        }
      ]
    },
    {
      "cell_type": "code",
      "source": [
        "mse = mean_squared_error(y_test, y_pred)\n",
        "r2 = r2_score(y_test, y_pred)\n",
        "\n",
        "print(\"Mean Squared Error:\", mse)\n",
        "print(\"R-squared:\", r2)"
      ],
      "metadata": {
        "colab": {
          "base_uri": "https://localhost:8080/"
        },
        "id": "ORXmv9Jddzkn",
        "outputId": "22bd4439-76ab-4ce3-8fc4-365c27be0ea2"
      },
      "execution_count": null,
      "outputs": [
        {
          "output_type": "stream",
          "name": "stdout",
          "text": [
            "Mean Squared Error: 5.4081248009595\n",
            "R-squared: 0.7242632711248863\n"
          ]
        }
      ]
    },
    {
      "cell_type": "code",
      "source": [
        "new_campaign = np.array([180.8, 10.8, 58.4\t]).reshape(-1, 1)\n",
        "predicted_sales = model.predict(new_campaign)\n",
        "print(\"Predicted Sales for the new campaign:\", predicted_sales[0])"
      ],
      "metadata": {
        "colab": {
          "base_uri": "https://localhost:8080/"
        },
        "id": "dj2ch5TueHmB",
        "outputId": "18e49af8-96a6-49a1-bd3d-592683751001"
      },
      "execution_count": null,
      "outputs": [
        {
          "output_type": "stream",
          "name": "stdout",
          "text": [
            "Predicted Sales for the new campaign: 18.189000000000025\n"
          ]
        }
      ]
    },
    {
      "cell_type": "markdown",
      "source": [
        "![Screenshot 2023-08-05 123852.png](data:image/png;base64,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)\n",
        "\n"
      ],
      "metadata": {
        "id": "mwZfqfEAhrGz"
      }
    },
    {
      "cell_type": "markdown",
      "source": [
        "From the Above Prediction and the data we had we can analyze that the sales value for the given TV,Radio and Newpaper Expenditure we had in the dataset is very much Near to our expected value that is 18.189"
      ],
      "metadata": {
        "id": "uNHJi6SDh-6e"
      }
    },
    {
      "cell_type": "markdown",
      "source": [
        "We can Also check it for other values of Tv, Radio and Newspaper significantly"
      ],
      "metadata": {
        "id": "xsyN9Eg3iW-2"
      }
    },
    {
      "cell_type": "code",
      "source": [
        "new_campaign = np.array([1000, 1, 580.4\t]).reshape(-1, 1)\n",
        "predicted_sales = model.predict(new_campaign)\n",
        "print(\"Predicted Sales for the new campaign:\", predicted_sales[0])"
      ],
      "metadata": {
        "colab": {
          "base_uri": "https://localhost:8080/"
        },
        "id": "1YCFoK6OhcBc",
        "outputId": "3bb0fd7f-b93e-4b37-aeee-37baa334a242"
      },
      "execution_count": null,
      "outputs": [
        {
          "output_type": "stream",
          "name": "stdout",
          "text": [
            "Predicted Sales for the new campaign: 22.605000000000008\n"
          ]
        }
      ]
    },
    {
      "cell_type": "markdown",
      "source": [
        "# **Linear Regression**"
      ],
      "metadata": {
        "id": "CIgHucIfmxnJ"
      }
    },
    {
      "cell_type": "code",
      "source": [
        "from sklearn.linear_model import LinearRegression\n",
        "\n",
        "model = LinearRegression()\n",
        "model.fit(X_train, y_train)"
      ],
      "metadata": {
        "colab": {
          "base_uri": "https://localhost:8080/",
          "height": 74
        },
        "id": "0hfVarSujRih",
        "outputId": "9f6e0a2f-c94c-42ce-b473-51e37e2ed1dc"
      },
      "execution_count": null,
      "outputs": [
        {
          "output_type": "execute_result",
          "data": {
            "text/plain": [
              "LinearRegression()"
            ],
            "text/html": [
              "<style>#sk-container-id-2 {color: black;background-color: white;}#sk-container-id-2 pre{padding: 0;}#sk-container-id-2 div.sk-toggleable {background-color: white;}#sk-container-id-2 label.sk-toggleable__label {cursor: pointer;display: block;width: 100%;margin-bottom: 0;padding: 0.3em;box-sizing: border-box;text-align: center;}#sk-container-id-2 label.sk-toggleable__label-arrow:before {content: \"▸\";float: left;margin-right: 0.25em;color: #696969;}#sk-container-id-2 label.sk-toggleable__label-arrow:hover:before {color: black;}#sk-container-id-2 div.sk-estimator:hover label.sk-toggleable__label-arrow:before {color: black;}#sk-container-id-2 div.sk-toggleable__content {max-height: 0;max-width: 0;overflow: hidden;text-align: left;background-color: #f0f8ff;}#sk-container-id-2 div.sk-toggleable__content pre {margin: 0.2em;color: black;border-radius: 0.25em;background-color: #f0f8ff;}#sk-container-id-2 input.sk-toggleable__control:checked~div.sk-toggleable__content {max-height: 200px;max-width: 100%;overflow: auto;}#sk-container-id-2 input.sk-toggleable__control:checked~label.sk-toggleable__label-arrow:before {content: \"▾\";}#sk-container-id-2 div.sk-estimator input.sk-toggleable__control:checked~label.sk-toggleable__label {background-color: #d4ebff;}#sk-container-id-2 div.sk-label input.sk-toggleable__control:checked~label.sk-toggleable__label {background-color: #d4ebff;}#sk-container-id-2 input.sk-hidden--visually {border: 0;clip: rect(1px 1px 1px 1px);clip: rect(1px, 1px, 1px, 1px);height: 1px;margin: -1px;overflow: hidden;padding: 0;position: absolute;width: 1px;}#sk-container-id-2 div.sk-estimator {font-family: monospace;background-color: #f0f8ff;border: 1px dotted black;border-radius: 0.25em;box-sizing: border-box;margin-bottom: 0.5em;}#sk-container-id-2 div.sk-estimator:hover {background-color: #d4ebff;}#sk-container-id-2 div.sk-parallel-item::after {content: \"\";width: 100%;border-bottom: 1px solid gray;flex-grow: 1;}#sk-container-id-2 div.sk-label:hover label.sk-toggleable__label {background-color: #d4ebff;}#sk-container-id-2 div.sk-serial::before {content: \"\";position: absolute;border-left: 1px solid gray;box-sizing: border-box;top: 0;bottom: 0;left: 50%;z-index: 0;}#sk-container-id-2 div.sk-serial {display: flex;flex-direction: column;align-items: center;background-color: white;padding-right: 0.2em;padding-left: 0.2em;position: relative;}#sk-container-id-2 div.sk-item {position: relative;z-index: 1;}#sk-container-id-2 div.sk-parallel {display: flex;align-items: stretch;justify-content: center;background-color: white;position: relative;}#sk-container-id-2 div.sk-item::before, #sk-container-id-2 div.sk-parallel-item::before {content: \"\";position: absolute;border-left: 1px solid gray;box-sizing: border-box;top: 0;bottom: 0;left: 50%;z-index: -1;}#sk-container-id-2 div.sk-parallel-item {display: flex;flex-direction: column;z-index: 1;position: relative;background-color: white;}#sk-container-id-2 div.sk-parallel-item:first-child::after {align-self: flex-end;width: 50%;}#sk-container-id-2 div.sk-parallel-item:last-child::after {align-self: flex-start;width: 50%;}#sk-container-id-2 div.sk-parallel-item:only-child::after {width: 0;}#sk-container-id-2 div.sk-dashed-wrapped {border: 1px dashed gray;margin: 0 0.4em 0.5em 0.4em;box-sizing: border-box;padding-bottom: 0.4em;background-color: white;}#sk-container-id-2 div.sk-label label {font-family: monospace;font-weight: bold;display: inline-block;line-height: 1.2em;}#sk-container-id-2 div.sk-label-container {text-align: center;}#sk-container-id-2 div.sk-container {/* jupyter's `normalize.less` sets `[hidden] { display: none; }` but bootstrap.min.css set `[hidden] { display: none !important; }` so we also need the `!important` here to be able to override the default hidden behavior on the sphinx rendered scikit-learn.org. See: https://github.com/scikit-learn/scikit-learn/issues/21755 */display: inline-block !important;position: relative;}#sk-container-id-2 div.sk-text-repr-fallback {display: none;}</style><div id=\"sk-container-id-2\" class=\"sk-top-container\"><div class=\"sk-text-repr-fallback\"><pre>LinearRegression()</pre><b>In a Jupyter environment, please rerun this cell to show the HTML representation or trust the notebook. <br />On GitHub, the HTML representation is unable to render, please try loading this page with nbviewer.org.</b></div><div class=\"sk-container\" hidden><div class=\"sk-item\"><div class=\"sk-estimator sk-toggleable\"><input class=\"sk-toggleable__control sk-hidden--visually\" id=\"sk-estimator-id-2\" type=\"checkbox\" checked><label for=\"sk-estimator-id-2\" class=\"sk-toggleable__label sk-toggleable__label-arrow\">LinearRegression</label><div class=\"sk-toggleable__content\"><pre>LinearRegression()</pre></div></div></div></div></div>"
            ]
          },
          "metadata": {},
          "execution_count": 58
        }
      ]
    },
    {
      "cell_type": "code",
      "source": [
        "y_pred = model.predict(X_test)\n",
        "\n",
        "y_pred"
      ],
      "metadata": {
        "colab": {
          "base_uri": "https://localhost:8080/"
        },
        "id": "c4XfeQZpkZ-8",
        "outputId": "53a1c795-cbd0-45a6-fba8-2fbffb7a7725"
      },
      "execution_count": null,
      "outputs": [
        {
          "output_type": "execute_result",
          "data": {
            "text/plain": [
              "array([[ 7.37414007],\n",
              "       [19.94148154],\n",
              "       [14.32326899],\n",
              "       [18.82329361],\n",
              "       [20.13239168],\n",
              "       [18.2287449 ],\n",
              "       [14.54145201],\n",
              "       [17.72692398],\n",
              "       [18.75238413],\n",
              "       [18.77420243],\n",
              "       [13.34144544],\n",
              "       [19.46693349],\n",
              "       [10.01415451],\n",
              "       [17.1923756 ],\n",
              "       [11.70507285],\n",
              "       [12.08689312],\n",
              "       [15.11418241],\n",
              "       [16.23237035],\n",
              "       [15.8669138 ],\n",
              "       [13.1068987 ],\n",
              "       [18.65965635],\n",
              "       [14.00690363],\n",
              "       [17.60692332],\n",
              "       [16.60328147],\n",
              "       [17.03419291],\n",
              "       [18.96511257],\n",
              "       [18.93783969],\n",
              "       [11.05597839],\n",
              "       [17.03419291],\n",
              "       [13.66326538],\n",
              "       [10.6796127 ],\n",
              "       [10.71234015],\n",
              "       [13.5487193 ],\n",
              "       [17.22510305],\n",
              "       [ 9.67597085],\n",
              "       [13.52144643],\n",
              "       [12.25053038],\n",
              "       [16.13418799],\n",
              "       [19.07965865],\n",
              "       [17.48692266],\n",
              "       [18.69783838],\n",
              "       [16.53237199],\n",
              "       [15.92145955],\n",
              "       [18.86693021],\n",
              "       [13.5050827 ],\n",
              "       [11.84143724],\n",
              "       [ 7.87050642],\n",
              "       [20.51966653],\n",
              "       [10.79961336],\n",
              "       [ 9.03233096],\n",
              "       [17.99419817],\n",
              "       [16.29237067],\n",
              "       [11.04506924],\n",
              "       [14.09963141],\n",
              "       [18.44147334],\n",
              "       [ 9.3759692 ],\n",
              "       [ 7.88687015],\n",
              "       [ 8.34505447],\n",
              "       [17.72692398],\n",
              "       [11.62325422]])"
            ]
          },
          "metadata": {},
          "execution_count": 60
        }
      ]
    },
    {
      "cell_type": "code",
      "source": [
        "mse = mean_squared_error(y_test, y_pred)\n",
        "r2 = r2_score(y_test, y_pred)\n",
        "\n",
        "print(\"Mean Squared Error:\", mse)\n",
        "print(\"R-squared:\", r2)"
      ],
      "metadata": {
        "colab": {
          "base_uri": "https://localhost:8080/"
        },
        "id": "MKG-tuBzki2S",
        "outputId": "7d0cd00e-9cf2-4bad-9233-1dd34800cf32"
      },
      "execution_count": null,
      "outputs": [
        {
          "output_type": "stream",
          "name": "stdout",
          "text": [
            "Mean Squared Error: 4.077556371826948\n",
            "R-squared: 0.7921031601245662\n"
          ]
        }
      ]
    },
    {
      "cell_type": "markdown",
      "source": [
        "Here also we get a MSE score of 4.077 and an R Squared value of .79 or 79% which is very good for an algorithm. More the R squared value means more proportion of the variance in the target variable is captured by the model."
      ],
      "metadata": {
        "id": "7kzJb07Pkx5Y"
      }
    },
    {
      "cell_type": "code",
      "source": [
        "new_campaign = np.array([44.5,\t39.3,\t45.1\t\t]).reshape(-1, 1)\n",
        "predicted_sales = model.predict(new_campaign)\n",
        "print(\"Predicted Sales for the new campaign:\", predicted_sales[0])"
      ],
      "metadata": {
        "colab": {
          "base_uri": "https://localhost:8080/"
        },
        "id": "nY6AzwI9lT4l",
        "outputId": "623792c5-bd4e-411b-8b10-bdbf1a38e72a"
      },
      "execution_count": null,
      "outputs": [
        {
          "output_type": "stream",
          "name": "stdout",
          "text": [
            "Predicted Sales for the new campaign: [9.3759692]\n"
          ]
        }
      ]
    },
    {
      "cell_type": "markdown",
      "source": [
        "Using this Technique, we are getting the values near to the actual values but, the technique is not as impactful as the previous technique/regression which was the RandomForestRegressor."
      ],
      "metadata": {
        "id": "WfATO330mXng"
      }
    },
    {
      "cell_type": "code",
      "source": [],
      "metadata": {
        "id": "-syb7MOQliBK"
      },
      "execution_count": null,
      "outputs": []
    }
  ]
}